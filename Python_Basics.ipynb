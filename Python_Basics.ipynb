{
  "nbformat": 4,
  "nbformat_minor": 0,
  "metadata": {
    "colab": {
      "name": "Python Basics.ipynb",
      "provenance": [],
      "collapsed_sections": [],
      "authorship_tag": "ABX9TyO4hu1JYX06led3K6mWiDyC",
      "include_colab_link": true
    },
    "kernelspec": {
      "name": "python3",
      "display_name": "Python 3"
    }
  },
  "cells": [
    {
      "cell_type": "markdown",
      "metadata": {
        "id": "view-in-github",
        "colab_type": "text"
      },
      "source": [
        "<a href=\"https://colab.research.google.com/github/Issue-03/LearnPython/blob/master/Python_Basics.ipynb\" target=\"_parent\"><img src=\"https://colab.research.google.com/assets/colab-badge.svg\" alt=\"Open In Colab\"/></a>"
      ]
    },
    {
      "cell_type": "code",
      "metadata": {
        "id": "GVAXJAHWCeQA",
        "colab_type": "code",
        "colab": {}
      },
      "source": [
        "#LIST IN PYTHON\n",
        "#INDEXED___MUTABLE___ORDERED\n",
        "\n",
        "some = [4,5,7]\n",
        "print(type(some))\n",
        "some.append(8)\n",
        "print(some)\n",
        "some.insert(0,2)  #(pos,element)\n",
        "print(some)\n",
        "some.pop(3)       #(pos)\n",
        "some.append(1)\n",
        "print(some)\n",
        "print(some.index(5))  #(element)\n",
        "\n",
        "#USING INDEXING\n",
        "print(some[3])\n",
        "print(some[-3])   #third last element\n",
        "print(some[2:5])   # 5th not included\n",
        "print(some[:3])\n",
        "print(some[2:])\n",
        "print(some[-4:-1])\n",
        "print(some[-4:])\n",
        "some[2] = 99\n",
        "print(some[:-2])\n",
        "\n",
        "#LOOPING\n",
        "for x in some:\n",
        "  print(x,end=\"->\")\n",
        "some.remove(99)\n",
        "del(some[1])\n",
        "print(\"\\nUSING RANGE\")  \n",
        "for i in range(len(some)):\n",
        "  print(some[i],end=\"<-\")  \n",
        "print(\"\\ncopy is just a referrence of some\")\n",
        "copy = some\n",
        "copy.append(1000)\n",
        "print(some,copy,sep=\"&&\")  \n",
        "print(\"to copy a list use some.copy() or list(some):\")\n",
        "copy = some.copy()\n",
        "#copy = list(some)\n",
        "copy.append(1001)\n",
        "print(some,copy,sep=\"&&\")  \n",
        "print(\"clear contents of list using .clear()\")\n",
        "some.clear() \n",
        "#del(some) to delete from the memory\n",
        "print(some)\n",
        "some=[1,2,3,4]\n",
        "third = some + copy\n",
        "print(third)\n",
        "fourth=[45,32]\n",
        "fourth.extend(third)\n",
        "print(fourth)\n",
        "new = list((1,2,3,4,2,3,4,2,3,2))\n",
        "print(new)\n",
        "print(\"Count of 3:\",new.count(3))"
      ],
      "execution_count": null,
      "outputs": []
    },
    {
      "cell_type": "code",
      "metadata": {
        "id": "SQmz3HNw2-Ke",
        "colab_type": "code",
        "colab": {
          "base_uri": "https://localhost:8080/",
          "height": 306
        },
        "outputId": "1751f0c5-64cf-4dcd-ada6-09402893d708"
      },
      "source": [
        "#TUPLE IN PYTHON\n",
        "#INDEXED___IMMUTABLE__ORDERED\n",
        "\n",
        "some = (1,2,4,3,2)\n",
        "print(type(some))\n",
        "print(some)\n",
        "print(\"INDEXING IS SAME AS LIST\")\n",
        "print(some[3])\n",
        "print(some[-3])   #third last element\n",
        "print(some[2:5])   # 5th not included\n",
        "print(some[:3])\n",
        "print(some[2:])\n",
        "print(some[-4:-1])\n",
        "print(some[-4:])\n",
        "#some[2] = 99   illegal\n",
        "print(some[:-2])\n",
        "\n",
        "#TUPLE\n",
        "thistuple = (\"apple\",)\n",
        "print(type(thistuple))\n",
        "\n",
        "#NOT a tuple\n",
        "thistuple = (\"apple\")\n",
        "print(type(thistuple))\n",
        "copy = some\n",
        "#del(some) remove from memory\n",
        "print(some.index(4))\n",
        "#del(copy)\n",
        "third = some + copy\n",
        "print(third)\n",
        "new = tuple((34,2,321,21,2,1,12))\n",
        "print(new)\n",
        "print(\"Count of 2:\",new.count(2))"
      ],
      "execution_count": null,
      "outputs": [
        {
          "output_type": "stream",
          "text": [
            "<class 'tuple'>\n",
            "(1, 2, 4, 3, 2)\n",
            "INDEXING IS SAME AS LIST\n",
            "3\n",
            "4\n",
            "(4, 3, 2)\n",
            "(1, 2, 4)\n",
            "(4, 3, 2)\n",
            "(2, 4, 3)\n",
            "(2, 4, 3, 2)\n",
            "(1, 2, 4)\n",
            "<class 'tuple'>\n",
            "<class 'str'>\n",
            "2\n",
            "(1, 2, 4, 3, 2, 1, 2, 4, 3, 2)\n",
            "(34, 2, 321, 21, 2, 1, 12)\n",
            "Count of 2: 2\n"
          ],
          "name": "stdout"
        }
      ]
    },
    {
      "cell_type": "code",
      "metadata": {
        "id": "c6xAGlkj-vnH",
        "colab_type": "code",
        "colab": {
          "base_uri": "https://localhost:8080/",
          "height": 238
        },
        "outputId": "b50470db-5e89-49fa-85ae-4ef6c3184161"
      },
      "source": [
        "#SET IN PYTHON\n",
        "#UNINDEXED___UNIQUE ELEMENTS\n",
        "#UNORDERED__means we cannot tell in which order they will appear\n",
        "\n",
        "some = set((1,2,3,4))\n",
        "some = {12,1,2,3,4,13,4,3,425}\n",
        "print(type(some))\n",
        "print(some)\n",
        "\n",
        "some.add(19)\n",
        "some.update({1,2,3,2,2,2})\n",
        "some.update([45,53,23])\n",
        "print(some)\n",
        "#some.remove(1000) ---raise error if item does not exist\n",
        "some.remove(2)\n",
        "print(some)\n",
        "some.discard(1000) #does not raise error\n",
        "\n",
        "copy = some\n",
        "copy.add(3452)\n",
        "print(some,copy,sep=\"-----\")\n",
        "copy = some.copy()\n",
        "copy.add(1922)\n",
        "print(some,copy,sep=\"-----\")\n",
        "#some.clear() ----works\n",
        "#del(some) ----works\n",
        "#one = {1}\n",
        "#print(type(one))\n",
        "\n",
        "some.pop()      #removes last element\n",
        "\n",
        "set1 = {1,2,3,4,5,6}\n",
        "set2 = {1,2,3,4,8,9,0}\n",
        "set3 = {4,5,13,23}\n",
        "set1.update((11,12))        #changes set1\n",
        "print(set1)\n",
        "\n",
        "set4 = set1.union(set2,set3)   #does not change the set1\n",
        "#set1.union_update(set2,set3)   ---no function exist\n",
        "print(\"UNION:\",set4)\n",
        "\n",
        "set4 = set1.intersection(set2,set3)\n",
        "#set1.intersection_update(set2,set3) ---exist\n",
        "print(\"INTERSECTION:\",set4)\n",
        "\n",
        "set4 = set1.difference(set2,set3)\n",
        "#set1.difference_update(set2,set3)  ---exist\n",
        "print(\"DIFF:\",set4)\n",
        "\n",
        "set5 = {1,2,3}\n",
        "set6 = {4,5,6}\n",
        "print(set5.issubset(set1))\n",
        "print(set2.issuperset(set5))\n",
        "print(set6.isdisjoint(set5))\n",
        "\n",
        "\n"
      ],
      "execution_count": null,
      "outputs": [
        {
          "output_type": "stream",
          "text": [
            "<class 'set'>\n",
            "{1, 2, 3, 4, 425, 12, 13}\n",
            "{1, 2, 3, 4, 425, 12, 13, 45, 19, 53, 23}\n",
            "{1, 3, 4, 425, 12, 13, 45, 19, 53, 23}\n",
            "{1, 3, 4, 425, 12, 13, 45, 19, 53, 23, 3452}-----{1, 3, 4, 425, 12, 13, 45, 19, 53, 23, 3452}\n",
            "{1, 3, 4, 425, 12, 13, 45, 19, 53, 23, 3452}-----{1, 1922, 3, 4, 425, 12, 13, 45, 19, 53, 23, 3452}\n",
            "{1, 2, 3, 4, 5, 6, 11, 12}\n",
            "UNION: {0, 1, 2, 3, 4, 5, 6, 8, 9, 11, 12, 13, 23}\n",
            "INTERSECTION: {4}\n",
            "DIFF: {11, 12, 6}\n",
            "True\n",
            "True\n",
            "True\n"
          ],
          "name": "stdout"
        }
      ]
    },
    {
      "cell_type": "code",
      "metadata": {
        "id": "YnqTCj02Wua8",
        "colab_type": "code",
        "colab": {}
      },
      "source": [
        "#DICTIONARY\n",
        "#INDEXED___UNORDERED____MUTABLE\n",
        "\n",
        "some = {\"key0\":0}\n",
        "print(some.get(\"key0\"))\n",
        "some.update({\"key1\":1,\"key2\":2})\n",
        "print(some[\"key1\"])\n",
        "some['key3'] = 3\n",
        "print(some)\n",
        "\n",
        "\n",
        "#LOOPING\n",
        "some = {0:12,1:13,2:14,3:15}\n",
        "for x in some:\n",
        "  print(x,\":\",some[x],end=\",\")\n",
        "print('\\nUsing .values()')  \n",
        "for x in some.values():\n",
        "  print(x,end=\",\")  \n",
        "print('Using .items()')\n",
        "for x,y in some.items():\n",
        "  print(x,y)\n",
        "\n",
        "print(some.pop(0,1))     #pop(key,default_value_to_return_if_key_not_present)\n",
        "print(some.popitem())    #removes last item,raise error if key is empty\n",
        "#del(some[1])\n",
        "#del(some)\n",
        "#some.clear()\n",
        "\n",
        "\n",
        "#COPYING\n",
        "some.update({1:2,1:3,2:\"123\"})\n",
        "print(some)\n",
        "copy = some     #referrence\n",
        "copy = some.copy()\n",
        "#copy = dict(some)\n",
        "\n",
        "new = dict(key0=0,key1=1,key2=2)\n",
        "print(new)\n",
        "\n",
        "#NESTED DICT\n",
        "nest = {  1 : {'Name':'something','Age':10} , 2 : {'Name':'anything','Age':0} , 3 : {'Name':'everything','Age':150}   }\n",
        "print(nest[3])\n",
        "for x in nest.values():\n",
        "  for y in x.values():\n",
        "    print(y,end=\",\")\n",
        "\n",
        "print(\"\")\n",
        "also = {\"sorted\":[1,2,3,4,5],\"unsorted\":[2,3,1,4]}\n",
        "print(also)\n",
        "\n",
        "values = also.values()\n",
        "keys = also.keys()\n",
        "print(keys,values,sep=\":\")\n",
        "\n",
        "values=[[4,5,6,7,],[7,5,4,6]]\n",
        "copy = dict.fromkeys(keys,values)\n",
        "print(copy)\n",
        "\n",
        "okay = {1:2000,2:1000,3:10002}\n",
        "\n",
        "print(okay.setdefault(2,10))\n",
        "print(okay.setdefault(4,10))\n",
        "print(okay)"
      ],
      "execution_count": null,
      "outputs": []
    },
    {
      "cell_type": "markdown",
      "metadata": {
        "id": "QQCIwtUaAZhC",
        "colab_type": "text"
      },
      "source": [
        "# FOR LOOP\n",
        "\n",
        "1. start - Starting number of the sequence\n",
        "2. end - Generate number up to end, but not including this number\n",
        "3. step - Difference between each number in the sequence"
      ]
    },
    {
      "cell_type": "code",
      "metadata": {
        "id": "5KH5NBmWAYWC",
        "colab_type": "code",
        "colab": {}
      },
      "source": [
        "start=1\n",
        "end=10\n",
        "step=2\n",
        "for number in range (start, end, step):\n",
        "    print(\"The current number is \", number)\n",
        "print(\"=============With negative steps==============\")\n",
        "for number in range(5,0,-1):\n",
        "    print (\"The current number is \",number)\n",
        "print(\"=============With break and continue==============\")\n",
        "for passenger in \"A\",\"A\", \"FC\", \"C\", \"FA\",  \"SP\", \"A\", \"A\":\n",
        "    if(passenger==\"FC\" or passenger==\"FA\"):\n",
        "        print(\"No check required\")\n",
        "        continue  \n",
        "        \n",
        "    if(passenger==\"SP\"):\n",
        "        print(\"Declare emergency in the airport\")\n",
        "        break\n",
        "         \n",
        "    if(passenger==\"A\" or passenger==\"C\"):\n",
        "        print(\"Proceed with normal security check\")\n",
        "        \n",
        "    print(\"Check the person\")\n",
        "    print(\"Check for cabin baggage\")"
      ],
      "execution_count": null,
      "outputs": []
    },
    {
      "cell_type": "markdown",
      "metadata": {
        "id": "E1VBeurQCbo9",
        "colab_type": "text"
      },
      "source": [
        "# Automation testing using pytest\n",
        "\n",
        "**pytest** can be used to write test cases and automatically test a program. Let’s see how we can write test cases using pytest for the boarding requirement.\n",
        "\n",
        "![alt text](https://infytq.infosys.com/fastrack/Generic/PF/images/testing2_1.png)\n",
        "\n",
        "\n",
        "Once the test cases are written, we need to execute those test cases against the program to identify the test cases that have passed or failed. If there are any failed test cases, we should debug the program for any logical errors, correct it and test again as shown below.\n",
        "\n",
        "![alt text](https://infytq.infosys.com/fastrack/Generic/PF/images/testing3.png)\n",
        "\n",
        "\n",
        "After all test cases have passed, we need to check whether the test cases are sufficient to cover the entire logic of the program. If the coverage is not 100%, it means that some portion of the program is not being tested. In that case, we need to add more test cases/check the solution written, test and check the coverage again until it is 100% as shown below.\n",
        "\n",
        "The next thing to check is the correctness of the test cases we have written. If there are any incorrect test cases, we need to correct it, test and check again as shown below.\n",
        "\n",
        "![alt text](https://infytq.infosys.com/fastrack/Generic/PF/images/testing4.png)"
      ]
    },
    {
      "cell_type": "code",
      "metadata": {
        "id": "HJpBs3bYGDQL",
        "colab_type": "code",
        "colab": {}
      },
      "source": [
        "import pytest\n",
        "\n",
        "def test_boarding_1():\n",
        "    result=boarding(0)\n",
        "    assert result==-1\n",
        "    \n",
        "def test_boarding_2():\n",
        "    result=boarding(1)\n",
        "    assert result==1  \n",
        "'''               \n",
        ".\n",
        ".\n",
        ".\n",
        ".\n",
        "\n",
        "'''\n",
        "def test_boarding_14():\n",
        "    result=boarding(201)\n",
        "    assert result==-1"
      ],
      "execution_count": null,
      "outputs": []
    },
    {
      "cell_type": "markdown",
      "metadata": {
        "id": "Lzi8P10bGDuE",
        "colab_type": "text"
      },
      "source": [
        "# ABOUT FUNCTIONS\n",
        "In Python, when an argument passed to a function is modified inside it, whether the change is visible outside or not depends on whether the variable is mutable or not.\n",
        "\n",
        "Programming languages allow controlling the ordering and default values of arguments.\n",
        "In python we will observe the following:\n",
        "\n",
        "![alt text](https://infytq.infosys.com/fastrack/Generic/PF/images/Day4_Screen26_3.png)"
      ]
    },
    {
      "cell_type": "code",
      "metadata": {
        "id": "ilCqfIgVGZlh",
        "colab_type": "code",
        "colab": {}
      },
      "source": [
        "def display1(flight_number, seating_capacity):\n",
        "    print(\"Flight Number:\", flight_number)\n",
        "    print(\"Seating Capacity:\", seating_capacity)\n",
        "\n",
        "print(\"code-1: positional arguments\")\n",
        "display1(\"AI789\",200)\n",
        "#Uncomment and execute the below function call statement and observe the output\n",
        "#display1(300,\"BA123\")\n",
        "\n",
        "\n",
        "def display2(flight_number, seating_capacity):\n",
        "    print(\"Flight Number:\", flight_number)\n",
        "    print(\"Seating Capacity:\", seating_capacity)\n",
        "\n",
        "print(\"-------------------------------------------------\")\n",
        "print(\"code-2: keyword arguments\")\n",
        "display2(seating_capacity=250, flight_number=\"AI789\")\n",
        "\n",
        "def display3(flight_number, flight_make=\"Boeing\", seating_capacity=150):\n",
        "    print(\"Flight Number:\", flight_number)\n",
        "    print(\"Flight Make:\", flight_make)\n",
        "    print(\"Seating Capacity:\", seating_capacity)\n",
        "\n",
        "print(\"-------------------------------------------------\")\n",
        "print(\"code-3: default arguments\")\n",
        "display3(\"AI789\",\"Eagle\")\n",
        "#Uncomment and execute the below function call statements one by one and observe the output\n",
        "#display3(\"BA234\")\n",
        "#display3(\"SI678\",\"Qantas\",200)\n",
        "\n",
        "\n",
        "def display4(passenger_name, *baggage_tuple):\n",
        "    print(\"Passenger name:\",passenger_name)\n",
        "    total_wt=0\n",
        "    for baggage_wt in baggage_tuple:\n",
        "        total_wt+=baggage_wt\n",
        "    print(\"Total baggage weight in kg:\", total_wt)\n",
        "\n",
        "print(\"-------------------------------------------------\")\n",
        "print(\"code-4: variable argument count\")\n",
        "display4(\"Jack\",12,8,5)\n",
        "#Uncomment and execute the below function call statements one by one and observe the output\n",
        "#display4(\"Chan\",20,12)\n",
        "#display4(\"Henry\",23)"
      ],
      "execution_count": null,
      "outputs": []
    },
    {
      "cell_type": "markdown",
      "metadata": {
        "id": "_UqjROArH3ix",
        "colab_type": "text"
      },
      "source": [
        "# PARAMETERIZED TESTING\n",
        "\n",
        "![alt text](https://infytq.infosys.com/fastrack/Generic/PF/images/day4_screen38a4_2.png)\n",
        "\n",
        "The testing that we have been doing so far is known as unit testing.\n",
        "Here, unit is the smallest testable part of a program or application, in our case a function. It is done to check whether a unit is performing its intended task or not and it is the responsibility of the programmer to test the piece of code that he/she has written.\n",
        "\n",
        "Below are few of the unit testing techniques that can be used by the programmer to test the program.\n",
        "\n",
        "![alt text](https://infytq.infosys.com/fastrack/Generic/PF/images/day6_screen33.png)"
      ]
    },
    {
      "cell_type": "markdown",
      "metadata": {
        "id": "wWpHwLCwJCSV",
        "colab_type": "text"
      },
      "source": [
        "# EXCEPTIONAL HANDLING\n",
        "\n",
        "1. Default except block is the one without any type mentioned.\n",
        "2. If an error occurs and the matching except block is found, then that is executed.\n",
        "3. If an error occurs and the matching except block is not found, it executes the default except block.\n",
        "4. If an error occurs and the matching except block is not found and if the default except block is also not found, the code crashes.\n",
        "5. The default except block, if present should be the last except block, otherwise it will result in a runtime error.\n",
        "\n",
        "A finally block of statement is an optional part of the try-except statements. A code written inside the finally block will ALWAYS be executed."
      ]
    },
    {
      "cell_type": "code",
      "metadata": {
        "id": "BYLEfWNDIAAC",
        "colab_type": "code",
        "colab": {}
      },
      "source": [
        "def calculate_expenditure(list_of_expenditure):\n",
        "    total=0\n",
        "    try:\n",
        "        for expenditure in list_of_expenditure:\n",
        "            total+=expenditure\n",
        "        print(\"Total:\",total)\n",
        "        avg=total/num_values\n",
        "        print(\"Average:\",avg)\n",
        "    except ZeroDivisionError:\n",
        "        print(\"Divide by Zero error\")\n",
        "    except TypeError:\n",
        "        print(\"Wrong data type\")\n",
        "    except:\n",
        "        print(\"Some error occured\")\n",
        "list_of_values=[100,200,300,\"400\",500]\n",
        "num_values=0\n",
        "calculate_expenditure(list_of_values)"
      ],
      "execution_count": null,
      "outputs": []
    },
    {
      "cell_type": "code",
      "metadata": {
        "id": "SRPXQeImJ6Hi",
        "colab_type": "code",
        "colab": {}
      },
      "source": [
        "balance=1000\n",
        "amount=\"300Rs\"\n",
        "\n",
        "def take_card():\n",
        "    print(\"Take the card out of ATM\")\n",
        "try:\n",
        "    if balance>=int(amount):\n",
        "        print(\"Withdraw\")\n",
        "    else:\n",
        "        print(\"Invalid amount\")\n",
        "except TypeError:\n",
        "    print(\"Type Error Occurred\")\n",
        "except ValueError:\n",
        "    print(\"Value Error Occurred\")\n",
        "except:\n",
        "    print(\"Some error Occurred\")\n",
        "finally:\n",
        "    take_card()"
      ],
      "execution_count": null,
      "outputs": []
    },
    {
      "cell_type": "markdown",
      "metadata": {
        "id": "iAR06HZhKfC2",
        "colab_type": "text"
      },
      "source": [
        "# PYTHON PROJECT STRUCTURE\n",
        "\n",
        "![alt text](https://infytq.infosys.com/fastrack/Generic/PF/images/day5_screen14_03_a.png)"
      ]
    },
    {
      "cell_type": "code",
      "metadata": {
        "id": "mx7HN0zBKzIk",
        "colab_type": "code",
        "colab": {}
      },
      "source": [
        "import random\n",
        "x=10\n",
        "y=50\n",
        "print(random.randrange(x,y)) "
      ],
      "execution_count": null,
      "outputs": []
    },
    {
      "cell_type": "code",
      "metadata": {
        "id": "hU_0Kd7yK0Mf",
        "colab_type": "code",
        "colab": {}
      },
      "source": [
        "import math\n",
        "num1=234.01\n",
        "num2=6\n",
        "num3=-27.01\n",
        "\n",
        "print(\"The smallest integer greater than or equal to num1,\",num1,\":\",math.ceil(num1))\n",
        "print(\"The largest integer smaller than or equal to num1,\",num1,\":\",math.floor(num1))\n",
        "print(\"The factorial of num2,\",num2,\":\", math.factorial(num2))\n",
        "print(\"The absolute value of num3\",num3,\":\",math.fabs(num3))"
      ],
      "execution_count": null,
      "outputs": []
    },
    {
      "cell_type": "code",
      "metadata": {
        "id": "EGOK5LWDLNMB",
        "colab_type": "code",
        "colab": {}
      },
      "source": [
        "#STRING FUNCTIONS\n",
        "\n",
        "boarding_call=\"Good Evening, this is the final call to AI passengers for the flight AI 466 which is planned to take off at 8.40A.M.\"\n",
        "\n",
        "if(boarding_call.startswith(\"Good Evening\")):\n",
        "    print(boarding_call.replace(\"Good Evening\",\"Good Morning\"))\n",
        "\n",
        "if(boarding_call.find(\"AI\"))>=0:\n",
        "    print(\"Welcome to Air India.\")\n",
        "\n",
        "if(boarding_call.endswith(\"A.M.\")):\n",
        "    print(\"Passengers are requested to have their breakfast.\")\n",
        "\n",
        "a=boarding_call.split(\" \")\n",
        "for i in a:\n",
        "    if(i.isdigit()):\n",
        "        print(\"Flight Number is specified to the passengers.\")\n",
        "\n",
        "print(\"Total number of times flight service name is specified in the boarding call:\",boarding_call.count(\"AI\"))\n",
        "\n",
        "\n",
        "message=\"Thank you all..Have a nice journey!\"\n",
        "\n",
        "print(message.upper())\n",
        "\n",
        "print(message.lower())"
      ],
      "execution_count": null,
      "outputs": []
    },
    {
      "cell_type": "code",
      "metadata": {
        "id": "HINtbE1vLZv5",
        "colab_type": "code",
        "colab": {}
      },
      "source": [
        "import time\n",
        "import datetime\n",
        "\n",
        "#To get current GM time\n",
        "print(\"Current GM time:\",time.gmtime())\n",
        "#This returns a time structure containing 9 values - year, month,day, hour, minute, sec, day of week, day of year and daylight savings.\n",
        "\n",
        "#To get current local time\n",
        "print(\"Current local time:\",time.localtime())\n",
        "#This also returns a time structure containing 9 values - year, month,day, hour, minute, sec, day of week, day of year and daylight savings.\n",
        "\n",
        "#To extract today's date in a specified string format\n",
        "print(\"Today's date using time module\",time.strftime(\"%d/%m/%Y\"))\n",
        "\n",
        "#Python additionally allows use of  datetime module\n",
        "#Prints today's date\n",
        "print(\"Today's date using datetime module:\", datetime.date.today())\n",
        "\n",
        "#To extract today's date in a specified string format\n",
        "print(\"Today's date (dd/mm/yyyy) using datetime module:\", datetime.date.today().strftime(\"%d/%m/%Y\"))\n",
        "\n",
        "\n",
        "#To convert a date in string format to datetime value\n",
        "print(\"Today's date (dd/mm/yyyy):\", datetime.datetime.strptime(\"17/04/2016\",\"%d/%m/%Y\"))"
      ],
      "execution_count": null,
      "outputs": []
    },
    {
      "cell_type": "markdown",
      "metadata": {
        "id": "W-_6RoEbMd5e",
        "colab_type": "text"
      },
      "source": [
        "# FILE HANDLING\n",
        "1. open(file_path,operation)\tThis method is used to open the file for the specified operation. The operation can either be r,w,a for read, write and append.\n",
        "2. close()\tThis method is used to close a file which is already open.\n",
        "3. write()\tThis method is used to write a string to a file, if file is present. If not, it creates the file and writes the string into it.\n",
        "4. read()\tThis method is used to read all the contents of a file into a string."
      ]
    },
    {
      "cell_type": "code",
      "metadata": {
        "id": "haYmg-p9MPug",
        "colab_type": "code",
        "colab": {}
      },
      "source": [
        "try:\n",
        "    hello_file=open(\"flight.txt\",\"w\")\n",
        "    text=\"Hello everyone! Welcome\"\n",
        "    hello_file.write(text)\n",
        "except:\n",
        "    print(\"Error occurred, not able to write to file\")\n",
        "finally:\n",
        "    hello_file.close()\n",
        "try:\n",
        "    hello_file=open(\"flights.txt\",\"r\")\n",
        "    text_from_file=hello_file.read()\n",
        "    print(text_from_file)\n",
        "except:\n",
        "    print(\"Error Occurred, not able to read from file\")\n",
        "finally:\n",
        "    hello_file.close()"
      ],
      "execution_count": null,
      "outputs": []
    },
    {
      "cell_type": "markdown",
      "metadata": {
        "id": "n4vunjioM04k",
        "colab_type": "text"
      },
      "source": [
        "# REGULAR EXPRESSIONS\n",
        "\n",
        "Many times a lot of data would be stored in files and we may have to pick and change only relevant portions from a file. Even though there are string functions which allow us to manipulate strings, when dealing with more complicated requirements, we would need more powerful tools.\n",
        "\n",
        "\n",
        "Regular Expressions are used to check and extract relevant portions of a string based on a pattern and modify if required. \n",
        "Python has a module named **'re'** for regular expressions.\n",
        "\n",
        "Two commonly used methods in the re module are search and sub. Search is used to find a pattern and sub is used to perform a substitution.\n",
        "\n",
        "![alt text](https://infytq.infosys.com/fastrack/Generic/PF/images/day6_screen5_03_a.png)\n",
        "\n",
        "Here, r in front of the search pattern indicates 'raw string' where the special characters are treated as normal characters.\n",
        "The output will be 'None' if the pattern is not found.\n",
        "\n",
        "\n",
        "1. “.” stands for any character. If any two characters are there between A and l, then the pattern has matched\n",
        "2. \\d checks for a digit. If any digit is found between A and l, then pattern is found.\n",
        "3. [  ] does a single character substitution. We can specify a sequence of values. If any of the values are found, then the pattern has matched\n",
        "4. | acts like ‘or’ operator. If Hell or Fell is found in the string, the pattern is found\n",
        "5. \\s indicates a space. Here we are checking if there is a space after Air\n",
        "6. {n} checks if the preceding character appears exactly n times. Here we are checking if there are 3 digits after A\n",
        "7. ^ checks if a pattern is at the beginning of the string. Here we check if string begins with “A”\n",
        "8. $ checks if a pattern is at the end of the string. Here we check if string ends with “e”\n",
        "9. \\w checks for a-z,A-Z,0-9,_ Here we check if the last character is an alphanumeric character\n",
        "10. () is used to group characters. Here we are grouping 4 numbers together and referring it as \\1. 1 indicates the first group\n"
      ]
    },
    {
      "cell_type": "code",
      "metadata": {
        "id": "de39--HxNN_O",
        "colab_type": "code",
        "colab": {}
      },
      "source": [
        "#re.search()\n",
        "import re\n",
        "\n",
        "#To search the pattern \"Air\" in the given string\"Airline\".\n",
        "print(\"=======================================\")\n",
        "if(re.search(r\"Air\",\"Airline\")!=None):\n",
        "    print(\"Pattern found\")\n",
        "else:\n",
        "    print(\"Pattern not found\")\n",
        "\n",
        "#To search the pattern having two characters in between A and l in the given string \"Aopline\"\n",
        "print(\"=======================================\")\n",
        "if(re.search(r\"A..l\",\"Aopline\")!=None):\n",
        "    print(\"Pattern found\")\n",
        "else:\n",
        "    print(\"Pattern not found\")\n",
        "\n",
        "#To search for a digit between A and l in the given string \"A2line\".\n",
        "print(\"=======================================\")\n",
        "if(re.search(r\"A\\dl\",\"A2line\")!=None):\n",
        "    print(\"Pattern found\")\n",
        "else:\n",
        "    print(\"Pattern not found\")\n",
        "\n",
        "#To search for a number between 4 and 8 in between A and l in the given string.\n",
        "print(\"=======================================\")\n",
        "if(re.search(r\"A[4-8]l\",\"A2line\")!=None):\n",
        "    print(\"Pattern found\")\n",
        "else:\n",
        "    print(\"Pattern not found\")"
      ],
      "execution_count": null,
      "outputs": []
    },
    {
      "cell_type": "code",
      "metadata": {
        "id": "bymKOOmaNO9X",
        "colab_type": "code",
        "colab": {}
      },
      "source": [
        "#re.sub()\n",
        "import re\n",
        "\n",
        "#To replace the word \"Flight\" with the word \"Plane\".\n",
        "flight_details=\"Flight Savana Airlines a2134\"\n",
        "print(re.sub(r\"Flight\",r\"Plane\",flight_details))\n",
        "\n",
        "#To replace the ‘a’ to ‘A’ if it is followed by 4 numbers.\n",
        "flight_details=\"Flight Savana Airlines a2134\"\n",
        "print(re.sub(r\"a(\\d{4})\",r\"A\\1\",flight_details))"
      ],
      "execution_count": null,
      "outputs": []
    },
    {
      "cell_type": "code",
      "metadata": {
        "id": "vKhxex8PQHls",
        "colab_type": "code",
        "colab": {}
      },
      "source": [
        "import re\n",
        "\n",
        "flight_details=\"Flight Savana Airlines a2138\"\n",
        "\n",
        "if(re.search(r\"Airlines\",flight_details)!=None):\n",
        "    print(\"Match Found: Airlines\")\n",
        "else:\n",
        "    print(\"Match Not Found\")\n",
        "\n",
        "if(re.search(r\"a2138$\",flight_details)!=None):\n",
        "    print(\"Match Found: a2138\")\n",
        "else:\n",
        "    print(\"Match Not Found\")\n",
        "\n",
        "if(re.search(r\"^F\",flight_details)!=None):\n",
        "    print(\"Match Found: Message starts with 'F'\")\n",
        "else:\n",
        "    print(\"Match Not Found\")\n",
        "\n",
        "\n",
        "if(re.search(r\"F..\",flight_details)!=None):\n",
        "    print(\"Match Found: Word starts with F and two consecutive characters\")\n",
        "else:\n",
        "    print(\"Match Not Found\")\n",
        "\n",
        "if(re.search(r\"\\bSav\\b\",flight_details)!=None):\n",
        "    print(\"Match Found:Word with blank spaces on both sides\")\n",
        "else:\n",
        "    print(\"Match Not Found\")\n",
        "\n",
        "if(re.search(r\"\\d$\",flight_details)!=None):\n",
        "    print(\"Match Found: Message ends with number\")\n",
        "else:\n",
        "    print(\"Match Not Found\")\n",
        "\n",
        "print(\"Word replaced in the message:\")\n",
        "print(re.sub(r\"Flight\",\"Plane\",flight_details))\n",
        "print(\"Word replaced in the message:\")\n",
        "print(re.sub(r\"a(\\d{4})\",r\"A\\1\",flight_details))\n",
        "                                          "
      ],
      "execution_count": null,
      "outputs": []
    },
    {
      "cell_type": "markdown",
      "metadata": {
        "id": "8LMl9l8yQTq2",
        "colab_type": "text"
      },
      "source": [
        "# CONCURRENCY\n",
        "\n",
        "1. **Multitasking** - unit of concurrency is the process which is like a task or job. Concurrency is achieved by interleaving execution of different tasks.\n",
        "2. **Multithreading** - unit of concurrency is a thread which is smaller or light weight compared to a process. One process can have multiple threads. This allows for a finer level of concurrency during interleaved execution.\n",
        "3. **Multiprocessing** - here we would have multiple CPUs executing concurrently. So processes or threads can be assigned to different available CPUs and be concurrently executed achieving concurrency"
      ]
    },
    {
      "cell_type": "code",
      "metadata": {
        "id": "y5GRPD2XQmbF",
        "colab_type": "code",
        "colab": {}
      },
      "source": [
        "from threading import Thread #threading module should be imported\n",
        "def tryit1():\n",
        "    name=input(\"Enter your name\")\n",
        "    print(\"Hi your name is \",name)\n",
        "\n",
        "def tryit2():\n",
        "    for i in range(1,1000000):\n",
        "        x=i*2.0\n",
        "    print(\"Done\")\n",
        "\n",
        "thread1=Thread(target=tryit1)   #we are creating one thread for tryit1\n",
        "thread1.start()     #we are starting that thread\n",
        "thread2=Thread(target=tryit2)   #we are creating one thread for tryit2\n",
        "thread2.start()     #we are starting that thread\n",
        "#we are waiting for the threads to complete using join.\n",
        "thread1.join()\n",
        "thread2.join()"
      ],
      "execution_count": null,
      "outputs": []
    },
    {
      "cell_type": "markdown",
      "metadata": {
        "id": "rgKmcGPVQyuV",
        "colab_type": "text"
      },
      "source": [
        "# LAMBDA FUNCTION\n",
        "\n",
        "Lambdas are functions without names, in other words they are anonymous functions. They take inputs and return outputs but do not have a name. They are shortcuts to create simple temporary functions.\n",
        "\n",
        "![alt text](https://infytq.infosys.com/fastrack/Generic/PF/images/day6_screen20_03_a.png)"
      ]
    },
    {
      "cell_type": "code",
      "metadata": {
        "id": "I2xKGGveRCsi",
        "colab_type": "code",
        "colab": {}
      },
      "source": [
        "import math\n",
        "g = lambda x,y:x*(x+y)\n",
        "print(g(8,2))\n",
        "\n",
        "s = lambda x:math.factorial(x)\n",
        "print(s(5))\n",
        "\n",
        "h = lambda x: x >40 and x< 50\n",
        "print(h(45))\n",
        "\n",
        "k = lambda x: x>10\n",
        "if (k(50)):\n",
        "    print(\"The number is greater than 10\")\n",
        "else:\n",
        "    print(\"The number is less than 10\")\n",
        "\n",
        "m=lambda x,y,z : x+y\n",
        "print(m(1,2,3)+ g(2,3))"
      ],
      "execution_count": null,
      "outputs": []
    },
    {
      "cell_type": "markdown",
      "metadata": {
        "id": "xLCPoOB0RRRw",
        "colab_type": "text"
      },
      "source": [
        "# HIGHER ORDER FUNCTIONS\n",
        "\n",
        "                                        \n",
        "Higher Order functions are those functions which can either accept another function as a parameter or return another function or both:\n",
        "\n"
      ]
    },
    {
      "cell_type": "code",
      "metadata": {
        "id": "hR7VquVDRaIS",
        "colab_type": "code",
        "colab": {}
      },
      "source": [
        "def add(x,y):\n",
        "    return x+y\n",
        "def call_function(func1,a,b):\n",
        "    ret=func1(a,b)\n",
        "    return ret\n",
        "print(call_function(add,10,20))"
      ],
      "execution_count": null,
      "outputs": []
    },
    {
      "cell_type": "code",
      "metadata": {
        "id": "ScJ8JkAfRbVn",
        "colab_type": "code",
        "colab": {}
      },
      "source": [
        "def ret_function(a,b):\n",
        "    a=a*a;\n",
        "    b=b*b;\n",
        "    return lambda :a+b\n",
        "new_func=ret_function(2,3);\n",
        "print(new_func())"
      ],
      "execution_count": null,
      "outputs": []
    },
    {
      "cell_type": "code",
      "metadata": {
        "id": "TcjzuV6ERyEv",
        "colab_type": "code",
        "colab": {}
      },
      "source": [
        "def sum_all(function, data):\n",
        "    result_sum=0;\n",
        "    for w in data:\n",
        "        if(function(w)):\n",
        "            result_sum = result_sum+ w\n",
        "    return result_sum\n",
        "\n",
        "Q=[1,3,4,5,6,7,8,9,10,15,20]\n",
        "\n",
        "p = lambda x:x\n",
        "\n",
        "q = lambda x : x%2 == 0\n",
        "\n",
        "r = lambda x : x%3 == 0\n",
        "\n",
        "\n",
        "print(sum_all(p,Q))\n",
        "print(sum_all(q,Q))\n",
        "print(sum_all(r,Q))"
      ],
      "execution_count": null,
      "outputs": []
    }
  ]
}