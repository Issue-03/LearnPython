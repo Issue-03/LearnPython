{
  "nbformat": 4,
  "nbformat_minor": 0,
  "metadata": {
    "colab": {
      "name": "OOPS in Python.ipynb",
      "provenance": [],
      "collapsed_sections": [],
      "authorship_tag": "ABX9TyNkCf1c2ha+wiGl7L8I+YkP",
      "include_colab_link": true
    },
    "kernelspec": {
      "name": "python3",
      "display_name": "Python 3"
    }
  },
  "cells": [
    {
      "cell_type": "markdown",
      "metadata": {
        "id": "view-in-github",
        "colab_type": "text"
      },
      "source": [
        "<a href=\"https://colab.research.google.com/github/Issue-03/LearnPython/blob/master/OOPS_in_Python.ipynb\" target=\"_parent\"><img src=\"https://colab.research.google.com/assets/colab-badge.svg\" alt=\"Open In Colab\"/></a>"
      ]
    },
    {
      "cell_type": "markdown",
      "metadata": {
        "id": "_4bppJ2tNn6p",
        "colab_type": "text"
      },
      "source": [
        "# All variable names and method names are in snake_case and all class names should be in PascalCase ( It is similar to camelCase but the first character is also Capitalized ). "
      ]
    },
    {
      "cell_type": "markdown",
      "metadata": {
        "id": "laukBwmYEGsS",
        "colab_type": "text"
      },
      "source": [
        "Each object is unique and independent of other object. Just like every person, including twins, are unique, so is every object.\n",
        "\n",
        "All objects have an internal unique id ( just like aadhar or green card number ). We can check this using the inbuilt id(). The below code will display the unique number associated with the object.\n",
        "\n"
      ]
    },
    {
      "cell_type": "code",
      "metadata": {
        "id": "A-75N-3L8Fct",
        "colab_type": "code",
        "colab": {
          "base_uri": "https://localhost:8080/",
          "height": 51
        },
        "outputId": "b621a084-7c24-4894-f31d-9be80d44e0c5"
      },
      "source": [
        "#Creating a class \n",
        "class Mobile:\n",
        "  pass\n",
        "\n",
        "#Creating objects\n",
        "mob1 = Mobile() \n",
        "mob2 = Mobile()\n",
        "\n",
        "print(\"ID for mob1=\",id(mob1))\n",
        "print(\"ID for mob2=\",id(mob2))"
      ],
      "execution_count": 1,
      "outputs": [
        {
          "output_type": "stream",
          "text": [
            "ID for mob1= 140057405695872\n",
            "ID for mob2= 140057405695816\n"
          ],
          "name": "stdout"
        }
      ]
    },
    {
      "cell_type": "markdown",
      "metadata": {
        "id": "tORsIzgXGk9j",
        "colab_type": "text"
      },
      "source": [
        "The best practice is to ensure all objects of a class have the same set of attributes. Very rarely should we create separate set of attributes for different objects. Also, languages like Java, C# etc do not allow us to create different set of attributes for different objects like python does."
      ]
    },
    {
      "cell_type": "code",
      "metadata": {
        "id": "g1PNhKZiFIov",
        "colab_type": "code",
        "colab": {
          "base_uri": "https://localhost:8080/",
          "height": 51
        },
        "outputId": "7cd21638-3954-4d57-ecae-72b3f1c31b9d"
      },
      "source": [
        "#Attributes of an object\n",
        "class Mobile:\n",
        "  pass\n",
        "\n",
        "mob1=Mobile()\n",
        "mob2=Mobile()\n",
        "\n",
        "mob1.price=20000\n",
        "mob1.brand=\"Apple\"\n",
        "mob1.ios_version=10\n",
        "\n",
        "mob2.price=3000\n",
        "mob2.brand=\"Samsung\"\n",
        "\n",
        "print(mob1.price,mob1.brand,mob1.ios_version)\n",
        "print(mob2.price,mob2.brand) "
      ],
      "execution_count": 2,
      "outputs": [
        {
          "output_type": "stream",
          "text": [
            "20000 Apple 10\n",
            "3000 Samsung\n"
          ],
          "name": "stdout"
        }
      ]
    },
    {
      "cell_type": "markdown",
      "metadata": {
        "id": "gCLU2EDCHcX8",
        "colab_type": "text"
      },
      "source": [
        "Attributes can be added to a class through a special function called __init__().\n",
        "\n",
        "**Note:**The parameter names and attribute names need not match"
      ]
    },
    {
      "cell_type": "code",
      "metadata": {
        "id": "sO6LbAZyGvka",
        "colab_type": "code",
        "colab": {
          "base_uri": "https://localhost:8080/",
          "height": 85
        },
        "outputId": "2a91cb32-7e7c-4d9f-cc65-a737009f8902"
      },
      "source": [
        "class Mobile:\n",
        "  def __init__(self, brand, price):\n",
        "    print(\"Inside Constructor\")\n",
        "    self.brand = brand\n",
        "    self.price = price\n",
        "\n",
        "mob1=Mobile(\"Apple\", 20000)\n",
        "print(\"Mobile 1 has brand\", mob1.brand, \"and price\", mob1.price)\n",
        "\n",
        "mob2=Mobile(\"Samsung\",3000)\n",
        "print(\"Mobile 2 has brand\", mob2.brand, \"and price\", mob2.price)"
      ],
      "execution_count": 3,
      "outputs": [
        {
          "output_type": "stream",
          "text": [
            "Inside Constructor\n",
            "Mobile 1 has brand Apple and price 20000\n",
            "Inside Constructor\n",
            "Mobile 2 has brand Samsung and price 3000\n"
          ],
          "name": "stdout"
        }
      ]
    },
    {
      "cell_type": "markdown",
      "metadata": {
        "id": "VxZhmphmIOAr",
        "colab_type": "text"
      },
      "source": [
        "We can create behavior in a class by adding functions in a class. However, such functions should have a special parameter called self as the first parameter. \n",
        "\n",
        "We can access an attribute in a method by using self. Value of the attribute accessed inside the method is determined by the object used to invoke the method. "
      ]
    },
    {
      "cell_type": "code",
      "metadata": {
        "id": "OuDleHKuIPD3",
        "colab_type": "code",
        "colab": {
          "base_uri": "https://localhost:8080/",
          "height": 153
        },
        "outputId": "ade67e16-e5e4-4fc5-92a5-a80a2ab876b0"
      },
      "source": [
        "class Mobile:\n",
        "  def __init__(self, brand, price):\n",
        "    print(\"Inside constructor\")\n",
        "    self.brand = brand\n",
        "    self.price = price\n",
        "\n",
        "  def purchase(self):\n",
        "    print(\"Purchasing a mobile\")\n",
        "    print(\"This mobile has brand\", self.brand, \"and price\", self.price)\n",
        "\n",
        "print(\"Mobile-1\")\n",
        "mob1=Mobile(\"Apple\", 20000)\n",
        "mob1.purchase()\n",
        "\n",
        "print(\"Mobile-2\")\n",
        "mob2=Mobile(\"Samsung\",3000)\n",
        "mob2.purchase()"
      ],
      "execution_count": 4,
      "outputs": [
        {
          "output_type": "stream",
          "text": [
            "Mobile-1\n",
            "Inside constructor\n",
            "Purchasing a mobile\n",
            "This mobile has brand Apple and price 20000\n",
            "Mobile-2\n",
            "Inside constructor\n",
            "Purchasing a mobile\n",
            "This mobile has brand Samsung and price 3000\n"
          ],
          "name": "stdout"
        }
      ]
    },
    {
      "cell_type": "markdown",
      "metadata": {
        "id": "HxugCOOBKnkk",
        "colab_type": "text"
      },
      "source": [
        "In python, everything is an object. Thus everything would have either attributes or behavior or both. That means even numbers, strings, list, set, dictionary, etc are all treated as objects in python."
      ]
    },
    {
      "cell_type": "code",
      "metadata": {
        "id": "MRdvK4zEKQeM",
        "colab_type": "code",
        "colab": {
          "base_uri": "https://localhost:8080/",
          "height": 68
        },
        "outputId": "ce3f4a88-7645-4bc5-d629-abf979c6674c"
      },
      "source": [
        "print((12.5).is_integer())\n",
        "print(\"hello\".upper())\n",
        "print([1,2,3].reverse())"
      ],
      "execution_count": 5,
      "outputs": [
        {
          "output_type": "stream",
          "text": [
            "False\n",
            "HELLO\n",
            "None\n"
          ],
          "name": "stdout"
        }
      ]
    },
    {
      "cell_type": "markdown",
      "metadata": {
        "id": "FC9AHuVdK4FL",
        "colab_type": "text"
      },
      "source": [
        "**ABSTRACTION**\n",
        "\n",
        "When we invoke the purchase() on a mobile object, we don’t have to know the details of the method to invoke it. We don’t have to know how the reverse() method is working in order to use it in our list.\n",
        "\n",
        "This ability to use something without having to know the details of how it is working is called as abstraction."
      ]
    },
    {
      "cell_type": "code",
      "metadata": {
        "id": "wd3MJROtK7ts",
        "colab_type": "code",
        "colab": {
          "base_uri": "https://localhost:8080/",
          "height": 51
        },
        "outputId": "2b70d8f8-80ae-4d64-d560-07f0fa6d7f79"
      },
      "source": [
        "class Employee:\n",
        "    def __init__(self):\n",
        "        self.employee_id = None\n",
        "    def check_eligibility(self):\n",
        "        if(self.employee_id>=9000 and self.employee_id<=10000):\n",
        "            print(\"The employee is eligible for special benefits\")\n",
        "        else:\n",
        "            print(\"The employee is not eligible for special benefits\")\n",
        "emp1=Employee()\n",
        "emp1.employee_id=10000\n",
        "emp1.check_eligibility()\n",
        "emp2=Employee()\n",
        "emp2.employee_id=4500\n",
        "emp2.check_eligibility()"
      ],
      "execution_count": 6,
      "outputs": [
        {
          "output_type": "stream",
          "text": [
            "The employee is eligible for special benefits\n",
            "The employee is not eligible for special benefits\n"
          ],
          "name": "stdout"
        }
      ]
    },
    {
      "cell_type": "markdown",
      "metadata": {
        "id": "Hk8lWu_4MauK",
        "colab_type": "text"
      },
      "source": [
        "Since it is an object, printing it will display the internal hex representation of it. \n",
        "\n",
        "For a more readable output when printing an object we can use the inbuilt special __str__ method. This method MUST return a string and this string will be used when the object is printed. This is useful in debugging as we can print the values of the attributes"
      ]
    },
    {
      "cell_type": "code",
      "metadata": {
        "id": "OtIPodsLMbSu",
        "colab_type": "code",
        "colab": {
          "base_uri": "https://localhost:8080/",
          "height": 34
        },
        "outputId": "769b90b6-7394-42e5-f531-4d20b882698a"
      },
      "source": [
        "class Shoe:\n",
        "    def __init__(self, price, material):\n",
        "        self.price = price\n",
        "        self.material = material\n",
        "\n",
        "s1=Shoe(1000, \"Canvas\")\n",
        "print(s1)"
      ],
      "execution_count": 7,
      "outputs": [
        {
          "output_type": "stream",
          "text": [
            "<__main__.Shoe object at 0x7f61a7ea5a58>\n"
          ],
          "name": "stdout"
        }
      ]
    },
    {
      "cell_type": "code",
      "metadata": {
        "id": "rUbdxxxHMsgN",
        "colab_type": "code",
        "colab": {
          "base_uri": "https://localhost:8080/",
          "height": 34
        },
        "outputId": "ca687de8-5130-400e-824c-e27d58c8de03"
      },
      "source": [
        "class Shoe:\n",
        "    def __init__(self, price, material):\n",
        "        self.price = price\n",
        "        self.material = material\n",
        "    def __str__(self):\n",
        "       return \"Shoe with price: \" + str(self.price) + \" and material: \" + self.material\n",
        "\n",
        "s1=Shoe(1000, \"Canvas\")\n",
        "print(s1)"
      ],
      "execution_count": 8,
      "outputs": [
        {
          "output_type": "stream",
          "text": [
            "Shoe with price: 1000 and material: Canvas\n"
          ],
          "name": "stdout"
        }
      ]
    },
    {
      "cell_type": "code",
      "metadata": {
        "id": "vrpOYer7NFQt",
        "colab_type": "code",
        "colab": {
          "base_uri": "https://localhost:8080/",
          "height": 51
        },
        "outputId": "6296f6e6-16e8-4bfd-e149-0366c7b91503"
      },
      "source": [
        "#We can also invoke one method from another using self. \n",
        "class Mobile:\n",
        "    def display(self):\n",
        "        print(\"Displaying details\")\n",
        "\n",
        "    def purchase(self):\n",
        "        self.display()\n",
        "        print(\"Calculating price\")\n",
        "\n",
        "Mobile().purchase()"
      ],
      "execution_count": 9,
      "outputs": [
        {
          "output_type": "stream",
          "text": [
            "Displaying details\n",
            "Calculating price\n"
          ],
          "name": "stdout"
        }
      ]
    },
    {
      "cell_type": "markdown",
      "metadata": {
        "id": "ToSfZSOaN94b",
        "colab_type": "text"
      },
      "source": [
        "### A Complete Example"
      ]
    },
    {
      "cell_type": "code",
      "metadata": {
        "id": "nZstbBTjN8LA",
        "colab_type": "code",
        "colab": {
          "base_uri": "https://localhost:8080/",
          "height": 187
        },
        "outputId": "44104dad-43e0-4813-c1c6-306ef246dbd4"
      },
      "source": [
        "class Mobile:\n",
        "    def __init__(self, brand, price):\n",
        "        print(\"Inside the Mobile constructor\")\n",
        "        self.brand = brand\n",
        "        self.price = price\n",
        "        self.total_price = None\n",
        "\n",
        "    def purchase(self):\n",
        "        if self.brand == \"Apple\":\n",
        "            discount = 10\n",
        "        else:\n",
        "            discount = 5\n",
        "        self.total_price = self.price - self.price * discount / 100\n",
        "        print(\"Total price of\", self.brand, \"mobile is\", self.total_price)\n",
        "\n",
        "    def return_product(self):\n",
        "        print(\"Refund Amount for\", self.brand, \"mobile is\", self.total_price)\n",
        "\n",
        "class Shoe:\n",
        "    def __init__(self, material, price):\n",
        "        print(\"Inside the Shoe constructor\")\n",
        "        self.material = material\n",
        "        self.price = price\n",
        "        self.total_price = None\n",
        "\n",
        "    def purchase(self):\n",
        "        if self.material == \"leather\":\n",
        "            tax = 5\n",
        "        else:\n",
        "            tax = 2\n",
        "        self.total_price = self.price + self.price * tax / 100\n",
        "        print(\"Total price of\", self.material, \"shoe is\", self.total_price)\n",
        "\n",
        "    def return_product(self):\n",
        "        print(\"Refund Amount for\", self.material, \"shoe is\", self.total_price)\n",
        "\n",
        "mob1=Mobile(\"Apple\", 20000)\n",
        "mob2=Mobile(\"Samsung\", 10000)\n",
        "\n",
        "shoe1=Shoe(\"leather\",3000)\n",
        "shoe2=Shoe(\"canvas\",200)\n",
        "\n",
        "mob1.purchase()\n",
        "mob2.purchase()\n",
        "\n",
        "shoe1.purchase()\n",
        "shoe2.purchase()\n",
        "\n",
        "mob2.return_product()\n",
        "\n",
        "shoe1.return_product()"
      ],
      "execution_count": 10,
      "outputs": [
        {
          "output_type": "stream",
          "text": [
            "Inside the Mobile constructor\n",
            "Inside the Mobile constructor\n",
            "Inside the Shoe constructor\n",
            "Inside the Shoe constructor\n",
            "Total price of Apple mobile is 18000.0\n",
            "Total price of Samsung mobile is 9500.0\n",
            "Total price of leather shoe is 3150.0\n",
            "Total price of canvas shoe is 204.0\n",
            "Refund Amount for Samsung mobile is 9500.0\n",
            "Refund Amount for leather shoe is 3150.0\n"
          ],
          "name": "stdout"
        }
      ]
    },
    {
      "cell_type": "markdown",
      "metadata": {
        "id": "dhHozQcnOclE",
        "colab_type": "text"
      },
      "source": [
        "# *Want to know what is python's philosophy? Just run the below code :)*"
      ]
    },
    {
      "cell_type": "code",
      "metadata": {
        "id": "-UZAX4OOOXLL",
        "colab_type": "code",
        "colab": {
          "base_uri": "https://localhost:8080/",
          "height": 374
        },
        "outputId": "58cf6f35-5c4b-4e04-a458-2b966286749d"
      },
      "source": [
        "import this"
      ],
      "execution_count": 11,
      "outputs": [
        {
          "output_type": "stream",
          "text": [
            "The Zen of Python, by Tim Peters\n",
            "\n",
            "Beautiful is better than ugly.\n",
            "Explicit is better than implicit.\n",
            "Simple is better than complex.\n",
            "Complex is better than complicated.\n",
            "Flat is better than nested.\n",
            "Sparse is better than dense.\n",
            "Readability counts.\n",
            "Special cases aren't special enough to break the rules.\n",
            "Although practicality beats purity.\n",
            "Errors should never pass silently.\n",
            "Unless explicitly silenced.\n",
            "In the face of ambiguity, refuse the temptation to guess.\n",
            "There should be one-- and preferably only one --obvious way to do it.\n",
            "Although that way may not be obvious at first unless you're Dutch.\n",
            "Now is better than never.\n",
            "Although never is often better than *right* now.\n",
            "If the implementation is hard to explain, it's a bad idea.\n",
            "If the implementation is easy to explain, it may be a good idea.\n",
            "Namespaces are one honking great idea -- let's do more of those!\n"
          ],
          "name": "stdout"
        }
      ]
    },
    {
      "cell_type": "markdown",
      "metadata": {
        "id": "OIq82YX3PEBy",
        "colab_type": "text"
      },
      "source": [
        "## ENCAPSULATION\n",
        "\n",
        "We can put a lock on that data by adding a double underscore in front of it.\n",
        "\n",
        "Adding a double underscore makes the attribute a private attribute. Private attributes are those which are accessible only inside the class. This method of restricting access to our data is called **encapsulation** .\n",
        "\n",
        "\n",
        "When we put a double underscore in front of the attribute name, python will internally change its name to _Classname__attribute\n",
        "\n",
        "This is why we get an error when we try to access a private attribute\n",
        "\n",
        "## _Customer__wallet_balance will be the name inside the class."
      ]
    },
    {
      "cell_type": "code",
      "metadata": {
        "id": "Iwi5kk3RPGap",
        "colab_type": "code",
        "colab": {
          "base_uri": "https://localhost:8080/",
          "height": 197
        },
        "outputId": "0952249f-8663-44be-85a2-56558f2f35ab"
      },
      "source": [
        "# Private attributes, code will throw an Attribute Error\n",
        "class Customer:\n",
        "    def __init__(self, cust_id, name, age, wallet_balance):\n",
        "        self.cust_id = cust_id\n",
        "        self.name = name\n",
        "        self.age = age\n",
        "        self.__wallet_balance = wallet_balance #private\n",
        "\n",
        "    def update_balance(self, amount):\n",
        "        if amount < 1000 and amount > 0:\n",
        "            self.__wallet_balance += amount\n",
        "\n",
        "    def show_balance(self):\n",
        "        print (\"The balance is \",self.__wallet_balance)\n",
        "\n",
        "c1=Customer(100, \"Gopal\", 24, 1000)\n",
        "print(c1.__wallet_balance)"
      ],
      "execution_count": 12,
      "outputs": [
        {
          "output_type": "error",
          "ename": "AttributeError",
          "evalue": "ignored",
          "traceback": [
            "\u001b[0;31m---------------------------------------------------------------------------\u001b[0m",
            "\u001b[0;31mAttributeError\u001b[0m                            Traceback (most recent call last)",
            "\u001b[0;32m<ipython-input-12-c86e95e8207f>\u001b[0m in \u001b[0;36m<module>\u001b[0;34m()\u001b[0m\n\u001b[1;32m     15\u001b[0m \u001b[0;34m\u001b[0m\u001b[0m\n\u001b[1;32m     16\u001b[0m \u001b[0mc1\u001b[0m\u001b[0;34m=\u001b[0m\u001b[0mCustomer\u001b[0m\u001b[0;34m(\u001b[0m\u001b[0;36m100\u001b[0m\u001b[0;34m,\u001b[0m \u001b[0;34m\"Gopal\"\u001b[0m\u001b[0;34m,\u001b[0m \u001b[0;36m24\u001b[0m\u001b[0;34m,\u001b[0m \u001b[0;36m1000\u001b[0m\u001b[0;34m)\u001b[0m\u001b[0;34m\u001b[0m\u001b[0;34m\u001b[0m\u001b[0m\n\u001b[0;32m---> 17\u001b[0;31m \u001b[0mprint\u001b[0m\u001b[0;34m(\u001b[0m\u001b[0mc1\u001b[0m\u001b[0;34m.\u001b[0m\u001b[0m__wallet_balance\u001b[0m\u001b[0;34m)\u001b[0m\u001b[0;34m\u001b[0m\u001b[0;34m\u001b[0m\u001b[0m\n\u001b[0m",
            "\u001b[0;31mAttributeError\u001b[0m: 'Customer' object has no attribute '__wallet_balance'"
          ]
        }
      ]
    },
    {
      "cell_type": "markdown",
      "metadata": {
        "id": "JpusCOtfPjWx",
        "colab_type": "text"
      },
      "source": [
        "If we try to assign a value to a private variable, we end up creating a new attribute in python. Thus this code does not give an error, but it is logically flawed and does not produce the intended result."
      ]
    },
    {
      "cell_type": "code",
      "metadata": {
        "id": "YbM1RcY6Q_XS",
        "colab_type": "code",
        "colab": {}
      },
      "source": [
        "class Customer:\n",
        "    def __init__(self, cust_id, name, age, wallet_balance):\n",
        "        self.cust_id = cust_id\n",
        "        self.name = name\n",
        "        self.age = age\n",
        "        self.__wallet_balance = wallet_balance\n",
        "\n",
        "    def update_balance(self, amount):\n",
        "        if amount < 1000 and amount > 0:\n",
        "            self.__wallet_balance += amount\n",
        "\n",
        "    def show_balance(self):\n",
        "        print (\"The balance is \",self.__wallet_balance)\n",
        "\n",
        "c1=Customer(100, \"Gopal\", 24, 1000)\n",
        "c1.__wallet_balance = 10000000000\n",
        "c1.show_balance()"
      ],
      "execution_count": null,
      "outputs": []
    },
    {
      "cell_type": "markdown",
      "metadata": {
        "id": "VneLUuvcRjn-",
        "colab_type": "text"
      },
      "source": [
        "Since we know that the name of the variable changes when we make it private, we can access it using its modified name as shown below:\n",
        "\n",
        "Any lock can be broken by a determined thief. Similarly, just because you make your code private, does not mean it is not accessible to other developers. When a developer sees a private variable, it’s a gentleman's agreement not to access it directly. It is used to only prevent accidental access.\n",
        "\n",
        "Thus in python encapsulation is more like a caution sign than a lock. A caution sign is there so that you don’t accidentally break a rule. But if you still want to break it you can, with consequence ;)"
      ]
    },
    {
      "cell_type": "code",
      "metadata": {
        "id": "UzmZ2C3cRk51",
        "colab_type": "code",
        "colab": {}
      },
      "source": [
        "class Customer:\n",
        "    def __init__(self, cust_id, name, age, wallet_balance):\n",
        "        self.cust_id = cust_id\n",
        "        self.name = name\n",
        "        self.age = age\n",
        "        self.__wallet_balance = wallet_balance\n",
        "\n",
        "    def update_balance(self, amount):\n",
        "        if amount < 1000 and amount > 0:\n",
        "            self.__wallet_balance += amount\n",
        "\n",
        "    def show_balance(self):\n",
        "        print (\"The balance is \",self.__wallet_balance)\n",
        "\n",
        "c1=Customer(100, \"Gopal\", 24, 1000)\n",
        "c1._Customer__wallet_balance = 10000000000\n",
        "c1.show_balance()"
      ],
      "execution_count": null,
      "outputs": []
    },
    {
      "cell_type": "markdown",
      "metadata": {
        "id": "sCB9SFxnYhMs",
        "colab_type": "text"
      },
      "source": [
        "To have a error free way of accessing and updating private variables, we create specific methods for this. Those methods which are meant to set a value to a private variable are called setter(mutators) methods and methods meant to access private variable values are called getter methods(accessors)."
      ]
    },
    {
      "cell_type": "code",
      "metadata": {
        "id": "hAdDi2SXYiNC",
        "colab_type": "code",
        "colab": {}
      },
      "source": [
        "class Customer:\n",
        "    def __init__(self, id, name, age, wallet_balance):\n",
        "        self.id = id\n",
        "        self.name = name\n",
        "        self.age = age\n",
        "        self.__wallet_balance = wallet_balance\n",
        "\n",
        "    def set_wallet_balance(self, amount):\n",
        "        if amount < 1000 and amount>  0:\n",
        "            self.__wallet_balance = amount\n",
        "\n",
        "    def get_wallet_balance(self):\n",
        "        return self.__wallet_balance\n",
        "\n",
        "c1=Customer(100, \"Gopal\", 24, 1000)\n",
        "c1.set_wallet_balance(120)\n",
        "print(c1.get_wallet_balance())"
      ],
      "execution_count": null,
      "outputs": []
    },
    {
      "cell_type": "markdown",
      "metadata": {
        "id": "WMz5Zxa_aRJb",
        "colab_type": "text"
      },
      "source": [
        "An object can also have multiple reference variables. Both the references are referring to the same object. When you assign an already created object to a variable, a new object is not created.\n",
        "\n",
        "When we pass an object to a parameter, the parameter name becomes a reference variable. Thus there is one object with two reference variable, one the formal parameter and the actual parameter. Thus any change made through one reference variable will affect the other as well."
      ]
    },
    {
      "cell_type": "code",
      "metadata": {
        "id": "ap-464DTaSaP",
        "colab_type": "code",
        "colab": {}
      },
      "source": [
        "class Mobile:\n",
        "    def __init__(self, price, brand):\n",
        "        print (\"Inside constructor\")\n",
        "        self.price = price\n",
        "        self.brand = brand\n",
        "\n",
        "mob1=Mobile(1000, \"Apple\")\n",
        "mob2=mob1\n",
        "print (\"Id of object referred by mob1 reference variable is :\", id(mob1))\n",
        "print (\"Id of object referred by mob2 reference variable is :\", id(mob2))\n",
        "#mob1 and mob2 are reference variables to the same object"
      ],
      "execution_count": null,
      "outputs": []
    },
    {
      "cell_type": "markdown",
      "metadata": {
        "id": "jqvVLHN9iJpi",
        "colab_type": "text"
      },
      "source": [
        "For changes to reflect outside the function, the object must be mutable object. All objects created through custom classes are mutable objects. If the objects are immutable, the changes don't reflect outside the function. This is because any changes made to a immutable object creates a new object. In the below code you can see that when we try to modify the string, it creates a new string object and the original string object is unchanged."
      ]
    },
    {
      "cell_type": "code",
      "metadata": {
        "id": "7vnDtSSxjbxI",
        "colab_type": "code",
        "colab": {}
      },
      "source": [
        "def change(strng):\n",
        "    print(\"Object ID before modification \",id(strng))\n",
        "    strng=strng.upper()\n",
        "    print(\"Object ID after modification \",id(strng))\n",
        "\n",
        "s1=\"hello\"\n",
        "change(s1)\n",
        "print(s1)"
      ],
      "execution_count": null,
      "outputs": []
    },
    {
      "cell_type": "code",
      "metadata": {
        "id": "R7ForztRk83o",
        "colab_type": "code",
        "colab": {}
      },
      "source": [
        "class Customer:\n",
        "    def __init__(id,self,age):\n",
        "        id.self=self\n",
        "        id.age=age\n",
        "\n",
        "c1=Customer(100,20)\n",
        "print(c1.self)"
      ],
      "execution_count": null,
      "outputs": []
    },
    {
      "cell_type": "markdown",
      "metadata": {
        "id": "C54Y_UwercnD",
        "colab_type": "text"
      },
      "source": [
        "# STATIC VARIABLES"
      ]
    },
    {
      "cell_type": "code",
      "metadata": {
        "id": "X7mv3vNbrfNx",
        "colab_type": "code",
        "colab": {}
      },
      "source": [
        "class Mobile:\n",
        "    discount = 50\n",
        "    def __init__(self, price, brand):\n",
        "        self.price = price\n",
        "        self.brand = brand\n",
        "\n",
        "    def purchase(self):\n",
        "        total = self.price - self.price * Mobile.discount / 100\n",
        "        print (self.brand, \"mobile with price\", self.price, \"is available after discount at\", total)\n",
        "\n",
        "def enable_discount():\n",
        "    Mobile.discount = 50\n",
        "\n",
        "def disable_discount():\n",
        "    Mobile.discount = 0\n",
        "\n",
        "mob1=Mobile(20000, \"Apple\")\n",
        "mob2=Mobile(30000, \"Apple\")\n",
        "mob3=Mobile(5000, \"Samsung\")\n",
        "\n",
        "enable_discount()\n",
        "mob1.purchase()\n",
        "mob2.purchase()\n",
        "\n",
        "disable_discount()\n",
        "mob3.purchase()"
      ],
      "execution_count": null,
      "outputs": []
    },
    {
      "cell_type": "markdown",
      "metadata": {
        "id": "1y0e6gkkt2hx",
        "colab_type": "text"
      },
      "source": [
        "Since static variable is object independent, we need a way to access the getter setter methods without an object. This is possible by creating static methods. Static methods are those methods which can be accessed without an object. They are accessed using the class name.\n",
        "\n",
        "There are two rules in creating such static methods:\n",
        "\n",
        "1. The methods should not have self\n",
        "\n",
        "2. @staticmethod must be written on top of it"
      ]
    },
    {
      "cell_type": "code",
      "metadata": {
        "id": "oKkwru0dt4TB",
        "colab_type": "code",
        "colab": {}
      },
      "source": [
        "class Mobile:\n",
        "    __discount = 50\n",
        "    def __init__(self, price, brand):\n",
        "        self.price = price\n",
        "        self.brand = brand\n",
        "\n",
        "    def purchase(self):\n",
        "        total = self.price - self.price * Mobile.__discount / 100\n",
        "        print (\"Total is \",total)\n",
        "\n",
        "    @staticmethod\n",
        "    def get_discount():\n",
        "        return Mobile.__discount\n",
        "\n",
        "    @staticmethod\n",
        "    def set_discount(discount):\n",
        "        Mobile.__discount = discount\n",
        "\n",
        "print (Mobile.get_discount())"
      ],
      "execution_count": null,
      "outputs": []
    },
    {
      "cell_type": "code",
      "metadata": {
        "id": "rEuIJWJsuVRZ",
        "colab_type": "code",
        "colab": {}
      },
      "source": [
        "class Mobile:\n",
        "    __discount = 50\n",
        "    def __init__(self, price, brand):\n",
        "        self.price = price\n",
        "        self.brand = brand\n",
        "\n",
        "    def purchase(self):\n",
        "        total = self.price - self.price * Mobile.__discount / 100\n",
        "        print (self.brand, \"mobile with price\", self.price, \"is available after discount at\", total)\n",
        "\n",
        "    @staticmethod\n",
        "    def enable_discount():\n",
        "        Mobile.set_discount(50)\n",
        "\n",
        "    @staticmethod\n",
        "    def disable_discount():\n",
        "        Mobile.set_discount(0)\n",
        "\n",
        "    @staticmethod\n",
        "    def get_discount():\n",
        "        return Mobile.__discount\n",
        "\n",
        "    @staticmethod\n",
        "    def set_discount(discount):\n",
        "        Mobile.__discount = discount\n",
        "\n",
        "mob1=Mobile(20000, \"Apple\")\n",
        "mob2=Mobile(30000, \"Apple\")\n",
        "mob3=Mobile(5000, \"Samsung\")\n",
        "\n",
        "Mobile.disable_discount()\n",
        "\n",
        "mob1.purchase()\n",
        "\n",
        "Mobile.enable_discount()\n",
        "\n",
        "mob2.purchase()\n",
        "\n",
        "Mobile.disable_discount()\n",
        "\n",
        "mob3.purchase()"
      ],
      "execution_count": null,
      "outputs": []
    },
    {
      "cell_type": "code",
      "metadata": {
        "id": "2dWdED8OuePy",
        "colab_type": "code",
        "colab": {}
      },
      "source": [
        "import antigravity"
      ],
      "execution_count": null,
      "outputs": []
    },
    {
      "cell_type": "markdown",
      "metadata": {
        "id": "SkJ_88uRxFBn",
        "colab_type": "text"
      },
      "source": [
        "##Inheritance\n",
        "\n",
        "When one object is a type of another object\t\n",
        "\n",
        "Mobile is a Product\n",
        "\n",
        "##Aggregation\n",
        "\n",
        "When one object owns another object, but they both have independent life cycle.\n",
        "\n",
        "Customer has an Address. Even if the Customer is no more, there may be other customers in that address. So Address continues to exist even after a customer is no more\n",
        "\n",
        "If class A owns class B, then class A is said to aggregate class B. This is also commonly known as \"has-A\" relationship. For example, in our shopping app, a Customer has an Address. First let us look at the Customer class and Address class independently.\n",
        "\n",
        "##Composition\n",
        "When one object owns another object, but they both have same life cycle.\n",
        "\n",
        "College has a department. If the college closes, the department is also closed.\n",
        "\n",
        "*Also, each object may relate with multiple objects at the same time. For example, Shoe is also a Product. A Customer may have many addresses. A department may have many employees. A child may have many siblings, etc.*"
      ]
    },
    {
      "cell_type": "code",
      "metadata": {
        "id": "3DBR4lcMzP-V",
        "colab_type": "code",
        "colab": {}
      },
      "source": [
        "#AGGREGATION\n",
        "#We have already seen that private variables cannot be accessed outside the class. \n",
        "#This is true even in aggregation. \n",
        "#The owning class cannot access the private attributes of the aggregated class directly.\n",
        "\n",
        "class Customer:\n",
        "    def __init__(self, name, age, phone_no, address):\n",
        "        self.name = name\n",
        "        self.age = age\n",
        "        self.phone_no = phone_no\n",
        "        self.address = address\n",
        "\n",
        "    def view_details(self):\n",
        "        print (self.name, self.age, self.phone_no)\n",
        "        print (self.address.door_no, self.address.street, self.address.pincode)\n",
        "\n",
        "    def update_details(self, add):\n",
        "        self.address = add\n",
        "\n",
        "class Address:\n",
        "    def __init__(self, door_no, street, pincode):\n",
        "        self.door_no = door_no\n",
        "        self.street = street\n",
        "        self.pincode = pincode\n",
        "\n",
        "    def update_address(self):\n",
        "        pass\n",
        "\n",
        "add1=Address(123, \"5th Lane\", 56001)\n",
        "add2=Address(567, \"6th Lane\", 82006)\n",
        "cus1=Customer(\"Jack\", 24, 1234, add1)\n",
        "\n",
        "cus1.view_details()\n",
        "\n",
        "cus1.update_details(add2)\n",
        "\n",
        "cus1.view_details()"
      ],
      "execution_count": null,
      "outputs": []
    },
    {
      "cell_type": "code",
      "metadata": {
        "id": "_X-DPXxW1boT",
        "colab_type": "code",
        "colab": {}
      },
      "source": [
        "#Aggregation and Access Specifiers\n",
        "class Customer:\n",
        "    def __init__(self, name, age, phone_no, address):\n",
        "        self.name = name\n",
        "        self.age = age\n",
        "        self.phone_no = phone_no\n",
        "        self.address = address\n",
        "    def view_details(self):\n",
        "        print (self.name, self.age, self.phone_no)\n",
        "        print (self.address.get_door_no(), self.address.get_street(), self.address.get_pincode())\n",
        "class Address:\n",
        "    def __init__(self, door_no, street, pincode):\n",
        "        self.__door_no = door_no\n",
        "        self.__street = street\n",
        "        self.__pincode = pincode\n",
        "    def get_door_no(self):\n",
        "        return self.__door_no\n",
        "    def get_street(self):\n",
        "        return self.__street\n",
        "    def get_pincode(self):\n",
        "        return self.__pincode\n",
        "    def set_door_no(self, value):\n",
        "        self.__door_no = value\n",
        "    def set_street(self, value):\n",
        "        self.__street = value\n",
        "    def set_pincode(self, value):\n",
        "        self.__pincode = value\n",
        "    def update_address(self):\n",
        "        pass\n",
        "add1=Address(123, \"5th Lane\", 56001)\n",
        "cus1=Customer(\"Jack\", 24, 1234, add1)\n",
        "cus1.view_details()"
      ],
      "execution_count": null,
      "outputs": []
    },
    {
      "cell_type": "markdown",
      "metadata": {
        "id": "pJCDo__52WNu",
        "colab_type": "text"
      },
      "source": [
        "Sometimes a class may depend on another class for some of its use. This is not a strict relationship and hence won’t appear in the class diagram. For example, in the below code, the Customer class depends on a payment object for purchasing. Here payment is a local variable and not an attribute."
      ]
    },
    {
      "cell_type": "code",
      "metadata": {
        "id": "bZTBAI582ZYA",
        "colab_type": "code",
        "colab": {}
      },
      "source": [
        "#WEAKER RELATIONSHIP\n",
        "class Customer:\n",
        "    def __init__(self, name, age, phone_no):\n",
        "        self.name = name\n",
        "        self.age = age\n",
        "        self.phone_no = phone_no\n",
        "\n",
        "    def purchase(self, payment):\n",
        "        if payment.type == \"card\":\n",
        "            print (\"Paying by card\")\n",
        "        elif payment.type == \"e-wallet\":\n",
        "            print (\"Paying by wallet\")\n",
        "        else:\n",
        "            print (\"Paying by cash\")\n",
        "\n",
        "class Payment:\n",
        "    def __init__(self, type):\n",
        "        self.type = type\n",
        "\n",
        "payment1=Payment(\"card\")\n",
        "c=Customer(\"Jack\",23,1234)\n",
        "\n",
        "c.purchase(payment1)\n",
        "\n",
        "\n",
        "'''\n",
        "#Object creation\n",
        "class Customer:\n",
        "    def __init__(self, name,cust_type,bill):\n",
        "        self.name = name\n",
        "        self.bill = bill\n",
        "        self.cust_type=cust_type\n",
        "\n",
        "    def calulate_bill(self):\n",
        "        tax1=Tax(self.cust_type)\n",
        "        final_bill=self.bill*tax1.tax_details(self.cust_type)\n",
        "        return final_bill\n",
        "\n",
        "\n",
        "class Tax:\n",
        "    def __init__(self,cust_type):\n",
        "        self.cust_type=cust_type\n",
        "\n",
        "    def tax_details(self,cust_type):\n",
        "        if(cust_type==\"Student\"):\n",
        "            return 5\n",
        "        else:\n",
        "            return 10\n",
        "\n",
        "\n",
        "cust1=Customer(\"Maddy\",\"Student\",100)\n",
        "print(cust1.calulate_bill())\n",
        "'''"
      ],
      "execution_count": null,
      "outputs": []
    },
    {
      "cell_type": "markdown",
      "metadata": {
        "id": "oY0MDhqR4QYe",
        "colab_type": "text"
      },
      "source": [
        "When a class inherits from another class, then those classes are said to have an inheritance relationship. The class which is inheriting is called the child/sub/derived class and the class which is getting inherited is called the parent/super/base class. Inheritance is also called as \"is-A\" relationship.\n",
        "\n",
        "There are three main advantages of inheritance:\n",
        "\n",
        "1. We can keep common properties in a single place. Thus any changes needs to be made need not be repeated.\n",
        "2. Inheritance encourages code reuse thus saving us time.\n",
        "3. If we want to add a new type of phone later on, we can simply inherit the Phone class instead of writing it from scratch.\n",
        "\n",
        "When we have a inheritance relationship, the attributes and behaviors get inherited, just like a child inherits certain attributes and behaviours from its parent.\n",
        "From a code perspective, a child class inherits:\n",
        "\n",
        "1. Constructor\n",
        "2. Non Private Attributes\n",
        "3. Non Private Methods\n",
        "\n",
        "This is true for languages like Java, C# etc.\n",
        "\n",
        "Unlike other languages, private variables get inherited in Python. We will discuss more about this later.\n",
        "\n",
        "When we say a child class inherits the attributes and methods, we can treat the attributes and behavior as if it is owned by the child class itself.\n",
        "\n"
      ]
    },
    {
      "cell_type": "code",
      "metadata": {
        "id": "-RZqFYap5BSN",
        "colab_type": "code",
        "colab": {}
      },
      "source": [
        "class Phone:\n",
        "    def __init__(self, price, brand, camera):\n",
        "        self.price = price\n",
        "        self.brand = brand\n",
        "        self.camera = camera\n",
        "\n",
        "    def buy(self):\n",
        "        print (\"Buying a phone\")\n",
        "\n",
        "    def return_phone(self):\n",
        "        print (\"Returning a phone\")\n",
        "\n",
        "class FeaturePhone(Phone):\n",
        "    pass\n",
        "\n",
        "class SmartPhone(Phone):\n",
        "    pass\n",
        "\n",
        "FeaturePhone(10000,\"Apple\",\"13px\").buy()"
      ],
      "execution_count": null,
      "outputs": []
    },
    {
      "cell_type": "markdown",
      "metadata": {
        "id": "zz4aNE5r5r5s",
        "colab_type": "text"
      },
      "source": [
        "Sometimes a child may not want to use what it has inherited from the parent. The same holds true for OOP as well. If the child class does not want to use a method inherited from the parent class then it may create its own method with the same name.\n",
        "\n",
        "When the child has a method with the same name as that of the parent, it is said to override the parent’s method. This is called as Method Overriding. Method overriding is also called as **Polymorphism.**"
      ]
    },
    {
      "cell_type": "code",
      "metadata": {
        "id": "f3vPXsE85uYW",
        "colab_type": "code",
        "colab": {}
      },
      "source": [
        "class Phone:\n",
        "    def __init__(self, price, brand, camera):\n",
        "        print (\"Inside phone constructor\")\n",
        "        self.__price = price\n",
        "        self.brand = brand\n",
        "        self.camera = camera\n",
        "\n",
        "    def buy(self):\n",
        "        print (\"Buying a phone\")\n",
        "\n",
        "    def return_phone(self):\n",
        "        print (\"Returning a phone\")\n",
        "\n",
        "class FeaturePhone(Phone):\n",
        "    pass\n",
        "\n",
        "class SmartPhone(Phone):\n",
        "    def buy(self):\n",
        "        print (\"Buying a smartphone\")\n",
        "\n",
        "s=SmartPhone(20000, \"Apple\", 13)\n",
        "\n",
        "s.buy()"
      ],
      "execution_count": null,
      "outputs": []
    },
    {
      "cell_type": "markdown",
      "metadata": {
        "id": "Fm-qswTp7iQs",
        "colab_type": "text"
      },
      "source": [
        "To access the parent class constructor we can use super(). Thus, the data is passed to the child class constructor, from there the data is sent to the parent class constructor and thus the attributes of the parent class get inherited.\n",
        "\n",
        "super() function can be used to access the constructor or methods of the parent class, but not the attributes. Also super() function can be used only inside a class and not outside it"
      ]
    },
    {
      "cell_type": "code",
      "metadata": {
        "id": "S1Gvdct_7ist",
        "colab_type": "code",
        "colab": {}
      },
      "source": [
        "class Phone:\n",
        "    def __init__(self, price, brand, camera):\n",
        "        print (\"Inside phone constructor\")\n",
        "        self.__price = price\n",
        "        self.brand = brand\n",
        "        self.camera = camera\n",
        "\n",
        "    def buy(self):\n",
        "        print (\"Buying a phone\")\n",
        "\n",
        "    def return_phone(self):\n",
        "        print (\"Returning a phone\")\n",
        "\n",
        "class FeaturePhone(Phone):\n",
        "    pass\n",
        "\n",
        "class SmartPhone(Phone):\n",
        "    def __init__(self, price, brand, camera, os, ram):\n",
        "        super().__init__(price, brand, camera)\n",
        "        self.os = os\n",
        "        self.ram = ram\n",
        "        print (\"Inside smartphone constructor\")\n",
        "\n",
        "    def buy(self):\n",
        "        print (\"Buying a smartphone\")\n",
        "\n",
        "s=SmartPhone(20000, \"Samsung\", 12, \"Android\", 2)\n",
        "\n",
        "print(s.os)\n",
        "print(s.brand)"
      ],
      "execution_count": null,
      "outputs": []
    },
    {
      "cell_type": "markdown",
      "metadata": {
        "id": "Nu47vbMu8QAq",
        "colab_type": "text"
      },
      "source": [
        "# Multi Level Inheritance"
      ]
    },
    {
      "cell_type": "code",
      "metadata": {
        "id": "qXhgPM5v8T6l",
        "colab_type": "code",
        "colab": {}
      },
      "source": [
        "class Product:\n",
        "    def review(self):\n",
        "        print (\"Product customer review\")\n",
        "\n",
        "class Phone(Product):\n",
        "    def __init__(self, price, brand, camera):\n",
        "        print (\"Inside phone constructor\")\n",
        "        self.__price = price\n",
        "        self.brand = brand\n",
        "        self.camera = camera\n",
        "\n",
        "    def buy(self):\n",
        "        print (\"Buying a phone\")\n",
        "\n",
        "    def return_phone(self):\n",
        "        print (\"Returning a phone\")\n",
        "\n",
        "class SmartPhone(Phone):\n",
        "    pass\n",
        "\n",
        "s=SmartPhone(20000, \"Apple\", 12)\n",
        "\n",
        "s.buy()\n",
        "s.review()"
      ],
      "execution_count": null,
      "outputs": []
    },
    {
      "cell_type": "markdown",
      "metadata": {
        "id": "GZCMYzP88U8u",
        "colab_type": "text"
      },
      "source": [
        "# Hierarchical Inheritance"
      ]
    },
    {
      "cell_type": "code",
      "metadata": {
        "id": "7vICXBiv8aw0",
        "colab_type": "code",
        "colab": {}
      },
      "source": [
        "class Phone:\n",
        "    def __init__(self, price, brand, camera):\n",
        "        print (\"Inside phone constructor\")\n",
        "        self.__price = price\n",
        "        self.brand = brand\n",
        "        self.camera = camera\n",
        "\n",
        "    def buy(self):\n",
        "        print (\"Buying a phone\")\n",
        "\n",
        "    def return_phone(self):\n",
        "        print (\"Returning a phone\")\n",
        "\n",
        "class SmartPhone(Phone):\n",
        "    pass\n",
        "\n",
        "class FeaturePhone(Phone):\n",
        "    pass\n",
        "\n",
        "SmartPhone(1000,\"Apple\",\"13px\").buy()"
      ],
      "execution_count": null,
      "outputs": []
    },
    {
      "cell_type": "markdown",
      "metadata": {
        "id": "CfzIUa858fNA",
        "colab_type": "text"
      },
      "source": [
        "# Multiple Inheritacne\n",
        "\n",
        "When a child is inheriting from multiple parents, and if there is a common behavior to be inherited, it inherits the method in Parent class which is first in the list. In our example, the buy() of Product is inherited as it appears first in the list"
      ]
    },
    {
      "cell_type": "code",
      "metadata": {
        "id": "G9EZynV78kxR",
        "colab_type": "code",
        "colab": {}
      },
      "source": [
        "class Phone:\n",
        "    def __init__(self, price, brand, camera):\n",
        "        print (\"Inside phone constructor\")\n",
        "        self.__price = price\n",
        "        self.brand = brand\n",
        "        self.camera = camera\n",
        "\n",
        "    def buy(self):\n",
        "        print (\"Buying a phone\")\n",
        "\n",
        "    def return_phone(self):\n",
        "        print (\"Returning a phone\")\n",
        "\n",
        "class Product:\n",
        "    def review(self):\n",
        "        print (\"Customer review\")\n",
        "\n",
        "class SmartPhone(Phone, Product):\n",
        "    pass\n",
        "\n",
        "s=SmartPhone(20000, \"Apple\", 12)\n",
        "\n",
        "s.buy()\n",
        "s.review()"
      ],
      "execution_count": null,
      "outputs": []
    },
    {
      "cell_type": "code",
      "metadata": {
        "id": "km-uyrc5804V",
        "colab_type": "code",
        "colab": {}
      },
      "source": [
        "import __hello__"
      ],
      "execution_count": null,
      "outputs": []
    },
    {
      "cell_type": "markdown",
      "metadata": {
        "id": "cQZ53wq1-fN-",
        "colab_type": "text"
      },
      "source": [
        "# ABSTRACT CLASS\n",
        "\n",
        "We can programmatically declare a class as an abstract class. An abstract class should not be instantiated.\n",
        "\n",
        "![Image](https://infytq.infosys.com/fastrack/Generic/OOPR/images/abstract.PNG)\n",
        "\n",
        "Note: In python, you will not get an error if you try to instantiate it. However, in languages like Java, C++, C# you will get an error if you try to instantiate an abstract class.\n",
        "\n",
        "The only way we can use an abstract class is to make other classes inherit from the abstract class. An abstract class is meant to be sub classed.\n",
        "\n",
        "ABSTRACT METHODS\n",
        "\n",
        "1. An abstract class should not be instantiated.\n",
        "2. An abstract class may contain 0 or many abstract methods\n",
        "\n",
        "\n",
        "\n",
        "```\n",
        "from abc import ABCMeta, abstractmethod\n",
        "class Product(metaclass=ABCMeta):\n",
        "    @abstractmethod\n",
        "    def return_policy(self):\n",
        "        pass\n",
        "```\n",
        "\n",
        "Summary:\n",
        "\n",
        "1. Usually the parent class is an abstract class.\n",
        "2. Abstract classes should not be instantiated.\n",
        "3. If a class has an abstract method, then the class cannot be instantiated.\n",
        "4. Abstract classes are meant to be inherited.\n",
        "5. The child class must implement/override all the abstract methods of the parent class. Else the child class cannot be instantiated.\n"
      ]
    },
    {
      "cell_type": "code",
      "metadata": {
        "id": "fZLougKo-iaV",
        "colab_type": "code",
        "colab": {}
      },
      "source": [
        "#If a child class overrides the abstract method, \n",
        "#then its own child classes need not override the abstract method\n",
        "from abc import ABCMeta, abstractmethod\n",
        "class Product(metaclass=ABCMeta):\n",
        "    @abstractmethod\n",
        "    def return_policy(self):\n",
        "        pass\n",
        "\n",
        "class Furniture(Product):\n",
        "    def return_policy(self):\n",
        "        print(\"Furnitures cannot be returned\")\n",
        "\n",
        "class Sofa(Furniture):\n",
        "    pass\n",
        "\n",
        "Sofa()"
      ],
      "execution_count": null,
      "outputs": []
    },
    {
      "cell_type": "markdown",
      "metadata": {
        "id": "u2i9u63MCGT7",
        "colab_type": "text"
      },
      "source": [
        "# EXCEPTIONAL HANDLING IN OOPS\n",
        "\n",
        "1. Custom exceptions are created by inheriting the Exception class\n",
        "2. Custom classes give greater flexibility in handling exceptions\n",
        "3. The parent class exception must come after the child class exceptions in the except clause"
      ]
    },
    {
      "cell_type": "code",
      "metadata": {
        "id": "QnZO-xatCKaV",
        "colab_type": "code",
        "colab": {}
      },
      "source": [
        "class InvalidPrice(Exception):\n",
        "    pass\n",
        "\n",
        "class WrongCard(Exception):\n",
        "    pass\n",
        "\n",
        "class CreditCard:\n",
        "    def __init__(self, card_no, balance):\n",
        "        self.card_no=card_no\n",
        "        self.balance=balance\n",
        "\n",
        "class Customer:\n",
        "    def __init__(self,cards):\n",
        "        self.cards=cards\n",
        "    def purchase_item(self,price,card_no):\n",
        "        if price < 0:\n",
        "            raise InvalidPrice(\"The price is wrong\")\n",
        "        if card_no not in self.cards:\n",
        "            raise WrongCard(\"Card is invalid\")\n",
        "        if price>self.cards[card_no].balance:\n",
        "            raise WrongCard(\"Card has insufficient balance\")\n",
        "\n",
        "card1=CreditCard(101,800)\n",
        "card2=CreditCard(102,2000)\n",
        "cards={card1.card_no:card1,card2.card_no:card2}\n",
        "c=Customer(cards)\n",
        "\n",
        "while(True):\n",
        "    card_no=int(input(\"Please enter a card number\"))\n",
        "    try:\n",
        "        c.purchase_item(1200,card_no)\n",
        "        break\n",
        "    except InvalidPrice as e:\n",
        "        print(str(e))\n",
        "        break\n",
        "    except WrongCard as e:\n",
        "        print(str(e))\n",
        "        continue\n",
        "    except Exception as e:\n",
        "        print(\"Something went wrong. \"+str(e))"
      ],
      "execution_count": null,
      "outputs": []
    },
    {
      "cell_type": "code",
      "metadata": {
        "id": "fnRBLNJnD2Vu",
        "colab_type": "code",
        "colab": {}
      },
      "source": [
        "from __future__ import braces"
      ],
      "execution_count": null,
      "outputs": []
    }
  ]
}